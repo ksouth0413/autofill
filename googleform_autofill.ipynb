{
 "cells": [
  {
   "cell_type": "code",
   "execution_count": 1,
   "metadata": {},
   "outputs": [],
   "source": [
    "from time import sleep\n",
    "from selenium import webdriver\n",
    "\n",
    "driver = webdriver.Chrome('/Applications/chromedriver')\n",
    "url = 'https://docs.google.com/forms/d/e/1FAIpQLScPXUcpuiFE00JLPYsABzE9tN005FSQAdQJ8A0af_POVZbi1w/viewform'\n",
    "driver.get(url)"
   ]
  },
  {
   "cell_type": "code",
   "execution_count": 2,
   "metadata": {},
   "outputs": [],
   "source": [
    "sleep(2)\n",
    "class_name1 = '.quantumWizTextinputPaperinputInput.exportInput'\n",
    "driver.find_elements_by_css_selector(class_name1)[0].send_keys('308')\n",
    "sleep(2)\n",
    "driver.find_elements_by_css_selector(class_name1)[1].send_keys('김남훈')"
   ]
  },
  {
   "cell_type": "code",
   "execution_count": 3,
   "metadata": {},
   "outputs": [],
   "source": [
    "sleep(2)\n",
    "class_name2 = '#i13'\n",
    "driver.find_element_by_css_selector(class_name2).click()"
   ]
  },
  {
   "cell_type": "code",
   "execution_count": 4,
   "metadata": {},
   "outputs": [],
   "source": [
    "sleep(2)\n",
    "class_name3 = '#i23'\n",
    "driver.find_element_by_css_selector(class_name3).click()"
   ]
  },
  {
   "cell_type": "code",
   "execution_count": 5,
   "metadata": {},
   "outputs": [],
   "source": [
    "sleep(2)\n",
    "class_name4 = '#i34'\n",
    "driver.find_element_by_css_selector(class_name4).click()"
   ]
  },
  {
   "cell_type": "code",
   "execution_count": 6,
   "metadata": {},
   "outputs": [],
   "source": [
    "sleep(2)\n",
    "class_name5 = '.appsMaterialWizButtonPaperbuttonLabel.quantumWizButtonPaperbuttonLabel.exportLabel'\n",
    "driver.find_element_by_css_selector(class_name5).click()"
   ]
  }
 ],
 "metadata": {
  "kernelspec": {
   "display_name": "Python 3",
   "language": "python",
   "name": "python3"
  },
  "language_info": {
   "codemirror_mode": {
    "name": "ipython",
    "version": 3
   },
   "file_extension": ".py",
   "mimetype": "text/x-python",
   "name": "python",
   "nbconvert_exporter": "python",
   "pygments_lexer": "ipython3",
   "version": "3.8.1"
  }
 },
 "nbformat": 4,
 "nbformat_minor": 4
}
